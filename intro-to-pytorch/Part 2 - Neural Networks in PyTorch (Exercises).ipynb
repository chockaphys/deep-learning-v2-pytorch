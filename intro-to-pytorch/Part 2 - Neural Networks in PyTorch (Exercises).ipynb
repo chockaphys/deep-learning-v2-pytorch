{
 "cells": [
  {
   "cell_type": "markdown",
   "metadata": {},
   "source": [
    "# Neural networks with PyTorch\n",
    "\n",
    "Deep learning networks tend to be massive with dozens or hundreds of layers, that's where the term \"deep\" comes from. You can build one of these deep networks using only weight matrices as we did in the previous notebook, but in general it's very cumbersome and difficult to implement. PyTorch has a nice module `nn` that provides a nice way to efficiently build large neural networks."
   ]
  },
  {
   "cell_type": "code",
   "execution_count": 1,
   "metadata": {},
   "outputs": [],
   "source": [
    "# Import necessary packages\n",
    "\n",
    "%matplotlib inline\n",
    "%config InlineBackend.figure_format = 'retina'\n",
    "\n",
    "import numpy as np\n",
    "import torch\n",
    "\n",
    "import helper\n",
    "\n",
    "import matplotlib.pyplot as plt"
   ]
  },
  {
   "cell_type": "markdown",
   "metadata": {},
   "source": [
    "\n",
    "Now we're going to build a larger network that can solve a (formerly) difficult problem, identifying text in an image. Here we'll use the MNIST dataset which consists of greyscale handwritten digits. Each image is 28x28 pixels, you can see a sample below\n",
    "\n",
    "<img src='assets/mnist.png'>\n",
    "\n",
    "Our goal is to build a neural network that can take one of these images and predict the digit in the image.\n",
    "\n",
    "First up, we need to get our dataset. This is provided through the `torchvision` package. The code below will download the MNIST dataset, then create training and test datasets for us. Don't worry too much about the details here, you'll learn more about this later."
   ]
  },
  {
   "cell_type": "code",
   "execution_count": 2,
   "metadata": {},
   "outputs": [],
   "source": [
    "# The MNIST datasets are hosted on yann.lecun.com that has moved under CloudFlare protection\n",
    "# Run this script to enable the datasets download\n",
    "# Reference: https://github.com/pytorch/vision/issues/1938\n",
    "\n",
    "from six.moves import urllib\n",
    "opener = urllib.request.build_opener()\n",
    "opener.addheaders = [('User-agent', 'Mozilla/5.0')]\n",
    "urllib.request.install_opener(opener)"
   ]
  },
  {
   "cell_type": "code",
   "execution_count": 3,
   "metadata": {},
   "outputs": [],
   "source": [
    "### Run this cell\n",
    "\n",
    "from torchvision import datasets, transforms\n",
    "\n",
    "# Define a transform to normalize the data\n",
    "transform = transforms.Compose([transforms.ToTensor(),\n",
    "                              transforms.Normalize((0.5,), (0.5,)),\n",
    "                              ])\n",
    "\n",
    "# Download and load the training data\n",
    "trainset = datasets.MNIST('~/.pytorch/MNIST_data/', download=True, train=True, transform=transform)\n",
    "trainloader = torch.utils.data.DataLoader(trainset, batch_size=64, shuffle=True)"
   ]
  },
  {
   "cell_type": "markdown",
   "metadata": {},
   "source": [
    "We have the training data loaded into `trainloader` and we make that an iterator with `iter(trainloader)`. Later, we'll use this to loop through the dataset for training, like\n",
    "\n",
    "```python\n",
    "for image, label in trainloader:\n",
    "    ## do things with images and labels\n",
    "```\n",
    "\n",
    "You'll notice I created the `trainloader` with a batch size of 64, and `shuffle=True`. The batch size is the number of images we get in one iteration from the data loader and pass through our network, often called a *batch*. And `shuffle=True` tells it to shuffle the dataset every time we start going through the data loader again. But here I'm just grabbing the first batch so we can check out the data. We can see below that `images` is just a tensor with size `(64, 1, 28, 28)`. So, 64 images per batch, 1 color channel, and 28x28 images."
   ]
  },
  {
   "cell_type": "code",
   "execution_count": 4,
   "metadata": {},
   "outputs": [
    {
     "name": "stdout",
     "output_type": "stream",
     "text": [
      "<class 'torch.Tensor'>\n",
      "torch.Size([64, 1, 28, 28])\n",
      "torch.Size([64])\n"
     ]
    }
   ],
   "source": [
    "dataiter = iter(trainloader)\n",
    "images, labels = dataiter.next()\n",
    "print(type(images))\n",
    "print(images.shape)\n",
    "print(labels.shape)"
   ]
  },
  {
   "cell_type": "markdown",
   "metadata": {},
   "source": [
    "This is what one of the images looks like. "
   ]
  },
  {
   "cell_type": "code",
   "execution_count": 5,
   "metadata": {},
   "outputs": [
    {
     "data": {
      "image/png": "[encoded data removed]",
      "text/plain": [
       "<Figure size 432x288 with 1 Axes>"
      ]
     },
     "metadata": {
      "image/png": {
       "height": 248,
       "width": 251
      },
      "needs_background": "light"
     },
     "output_type": "display_data"
    }
   ],
   "source": [
    "plt.imshow(images[2].numpy().squeeze(), cmap='Greys_r');"
   ]
  },
  {
   "cell_type": "markdown",
   "metadata": {},
   "source": [
    "First, let's try to build a simple network for this dataset using weight matrices and matrix multiplications. Then, we'll see how to do it using PyTorch's `nn` module which provides a much more convenient and powerful method for defining network architectures.\n",
    "\n",
    "The networks you've seen so far are called *fully-connected* or *dense* networks. Each unit in one layer is connected to each unit in the next layer. In fully-connected networks, the input to each layer must be a one-dimensional vector (which can be stacked into a 2D tensor as a batch of multiple examples). However, our images are 28x28 2D tensors, so we need to convert them into 1D vectors. Thinking about sizes, we need to convert the batch of images with shape `(64, 1, 28, 28)` to a have a shape of `(64, 784)`, 784 is 28 times 28. This is typically called *flattening*, we flattened the 2D images into 1D vectors.\n",
    "\n",
    "Previously you built a network with one output unit. Here we need 10 output units, one for each digit. We want our network to predict the digit shown in an image, so what we'll do is calculate probabilities that the image is of any one digit or class. This ends up being a discrete probability distribution over the classes (digits) that tells us the most likely class for the image. That means we need 10 output units for the 10 classes (digits). We'll see how to convert the network output into a probability distribution next.\n",
    "\n",
    "> **Exercise:** Flatten the batch of images `images`. Then build a multi-layer network with 784 input units, 256 hidden units, and 10 output units using random tensors for the weights and biases. For now, use a sigmoid activation for the hidden layer. Leave the output layer without an activation, we'll add one that gives us a probability distribution next."
   ]
  },
  {
   "cell_type": "code",
   "execution_count": 7,
   "metadata": {},
   "outputs": [
    {
     "data": {
      "text/plain": [
       "torch.Size([64, 10])"
      ]
     },
     "execution_count": 7,
     "metadata": {},
     "output_type": "execute_result"
    }
   ],
   "source": [
    "## Your solution\n",
    "# Flatten the batch of images to shape (64, 784)\n",
    "test_batch = images.view(64,784) #refer solution notebook for a neat way of doing this.\n",
    "\n",
    "def activation(x):\n",
    "    \"\"\" Sigmoid activation function \n",
    "    \n",
    "        Arguments\n",
    "        ---------\n",
    "        x: torch.Tensor\n",
    "    \"\"\"\n",
    "    return 1/(1+torch.exp(-x))\n",
    "\n",
    "# Define the size of each layer in our network\n",
    "n_input = test_batch.shape[1]     # Number of input units, must match number of input features\n",
    "n_hidden = 256                    # Number of hidden units \n",
    "n_output = 10                    # Number of output units\n",
    "\n",
    "# Weights for inputs to hidden layer\n",
    "W1 = torch.randn(n_input, n_hidden)\n",
    "# Weights for hidden layer to output layer\n",
    "W2 = torch.randn(n_hidden, n_output)\n",
    "\n",
    "# and bias terms for hidden and output layers\n",
    "B1 = torch.randn((n_hidden))\n",
    "B2 = torch.randn((n_output))\n",
    "\n",
    "h_vec = torch.mm(test_batch, W1) + B1 # 64x784 (dot.product) 784x256 == 64x256\n",
    "f_h_vec = activation(h_vec)\n",
    "\n",
    "# This is the output for this multilayer network\n",
    "out_10 = torch.mm(f_h_vec, W2) + B2 # 64x256 (dot.product) 256x10 == 64x10\n",
    "\n",
    "out_10.shape # output of your network, should have shape (64,10)"
   ]
  },
  {
   "cell_type": "code",
   "execution_count": 8,
   "metadata": {},
   "outputs": [
    {
     "data": {
      "text/plain": [
       "torch.Size([64, 784])"
      ]
     },
     "execution_count": 8,
     "metadata": {},
     "output_type": "execute_result"
    }
   ],
   "source": [
    "test_batch.shape"
   ]
  },
  {
   "cell_type": "code",
   "execution_count": 9,
   "metadata": {},
   "outputs": [
    {
     "data": {
      "text/plain": [
       "tensor([[ 4.7418e+00, -6.0890e+00, -1.6893e+00,  2.3071e+01, -1.6184e+01,\n",
       "         -4.6996e+00,  2.8582e+00,  5.9429e+00,  2.5219e+00, -5.0773e+00],\n",
       "        [ 6.6481e+00,  1.1897e+00,  6.2861e-01,  1.1362e+01, -1.9511e+01,\n",
       "         -6.7115e-01,  2.5481e+00,  7.4046e+00,  1.2008e+00,  2.0936e+00],\n",
       "        [-2.7241e+00,  9.0512e-01,  9.2339e+00,  2.4602e+01, -1.6460e+01,\n",
       "          6.3238e+00, -1.2200e+00, -2.4645e+00,  8.4883e+00,  5.2677e+00],\n",
       "        [ 1.2486e+01, -2.1374e+00,  3.6180e+00,  2.3761e+01, -1.0496e+01,\n",
       "         -2.5662e+00,  1.0871e+01, -2.1094e+00, -2.8334e-01, -1.6436e+01],\n",
       "        [ 5.1594e+00,  5.9286e+00,  4.9774e+00,  1.5935e+01, -2.1187e+01,\n",
       "         -8.4834e+00,  3.6216e+00,  7.4405e+00,  4.0280e+00, -1.0061e+01],\n",
       "        [ 7.8763e+00, -2.2775e+00, -3.5506e-01,  8.9231e+00, -9.0928e+00,\n",
       "         -5.7392e+00,  5.6129e+00,  7.2329e+00,  2.3362e+00,  4.2352e-01],\n",
       "        [ 4.4479e+00, -5.3161e+00,  4.9605e-02,  2.4547e+01, -3.9367e+00,\n",
       "          9.4051e-01, -9.6263e+00,  3.9920e+00, -7.3358e+00,  8.3958e+00],\n",
       "        [ 1.6946e+00,  7.6197e+00,  1.5966e+01,  1.8207e+01, -1.9538e+01,\n",
       "          5.5983e+00,  3.5213e+00, -4.8759e+00,  8.6874e+00, -6.6272e+00],\n",
       "        [ 1.0035e+01,  2.9261e+00,  7.0739e+00,  3.1719e+01, -1.9413e+01,\n",
       "         -4.7873e+00,  1.7681e+00,  1.6369e+00,  4.6180e+00, -7.1980e+00],\n",
       "        [ 6.3424e+00, -3.7976e+00,  5.5851e+00,  2.1364e+01, -1.6551e+01,\n",
       "         -3.1612e+00,  9.1954e+00, -4.6999e+00,  2.1326e+00, -3.9415e+00],\n",
       "        [ 1.5295e+01, -1.2496e+00,  2.0216e+00,  2.3344e+01, -1.2792e+01,\n",
       "         -6.3915e+00,  5.3584e-02, -8.7292e+00,  4.9595e+00,  2.4669e+00],\n",
       "        [ 6.7707e+00, -3.9022e+00, -2.2525e+00,  1.3771e+01, -2.5313e+00,\n",
       "          2.5665e+00,  1.5294e+01, -3.3838e+00,  1.0127e+01, -1.0384e+01],\n",
       "        [ 9.5045e+00, -6.9286e+00,  4.9556e+00,  1.6071e+01, -1.4648e+01,\n",
       "          1.1603e+00,  8.2299e+00, -1.0614e+01,  6.3034e+00, -8.4951e+00],\n",
       "        [ 6.4067e+00, -3.6590e+00,  4.2632e+00,  3.1075e+01, -1.6225e+01,\n",
       "         -5.1691e+00,  1.2848e+01,  6.7198e+00,  4.5599e+00, -5.9261e+00],\n",
       "        [ 6.8724e+00, -4.0158e-01,  4.6577e+00,  2.2183e+01, -5.2255e+00,\n",
       "         -1.1803e+01,  1.2017e+00, -1.7362e+00,  1.0221e+01,  1.1210e+00],\n",
       "        [ 7.5063e+00,  1.1426e+01,  3.3653e-01,  1.0045e+01, -1.5427e+01,\n",
       "         -2.6187e+00,  3.2835e+00, -6.6136e+00,  1.1123e+01, -1.8518e+00],\n",
       "        [ 1.1234e+01, -1.8863e+00, -5.3867e+00,  2.7082e+01, -7.0868e+00,\n",
       "         -2.6525e+00,  3.9869e+00, -6.3873e+00, -1.4231e+00,  1.1481e+01],\n",
       "        [ 1.0483e+01, -2.4437e+00,  1.6952e+00,  2.3871e+01, -1.0659e+01,\n",
       "          4.1841e-01,  1.2775e+01,  2.7069e+00,  8.0187e-01,  2.0665e+00],\n",
       "        [ 1.5435e+00, -4.9909e+00,  1.0179e+01,  1.1400e+01, -7.7496e+00,\n",
       "         -7.5951e+00, -8.8160e-01, -8.6746e+00,  5.7160e+00,  1.8040e+00],\n",
       "        [ 6.0935e+00, -4.3904e+00,  1.0794e+01,  8.7777e+00, -1.0066e+01,\n",
       "         -5.4880e+00,  8.8960e+00, -6.0184e+00,  6.4360e+00, -5.1323e+00],\n",
       "        [ 6.1489e+00, -4.9432e+00,  9.0989e+00,  1.3592e+01, -1.4404e+01,\n",
       "          2.9279e+00,  6.0497e+00, -3.0428e+00,  4.0185e+00, -1.0602e+01],\n",
       "        [ 3.8085e+00,  2.2566e+00, -8.8789e+00,  1.6031e+01, -2.5073e+01,\n",
       "         -1.9894e+00,  4.2982e+00,  8.6842e-01, -1.1483e+00,  1.0057e+00],\n",
       "        [ 1.6827e+00,  3.6487e+00, -2.3334e+00,  2.3809e+01, -1.4952e+01,\n",
       "          5.9779e+00,  1.4909e+00, -9.9642e-01, -7.7114e-01,  6.1627e+00],\n",
       "        [ 8.5936e+00,  1.6044e+00,  2.6999e-01,  1.1166e+01, -6.3332e+00,\n",
       "         -4.9621e+00, -4.4132e+00, -3.7858e+00,  7.1454e+00, -2.1789e+00],\n",
       "        [-1.0047e+00, -5.2727e-02,  1.2885e+01,  1.5648e+01, -1.4504e+01,\n",
       "         -4.8331e+00,  1.5289e+00,  1.4694e+00,  3.8318e+00, -3.4986e+00],\n",
       "        [ 9.9244e+00,  5.8039e-01,  6.0898e+00,  1.1881e+01,  2.1817e+00,\n",
       "         -4.1392e+00,  1.8837e+01,  1.4794e+00,  3.0558e+00, -1.0164e+01],\n",
       "        [ 7.9341e-01, -3.0821e+00,  2.1664e+00,  6.7417e+00, -1.4006e+01,\n",
       "          1.3455e+00,  9.5562e+00,  2.2912e+00,  3.1728e+00, -1.0592e+01],\n",
       "        [ 5.2276e+00, -7.3295e+00, -8.1956e+00,  2.5774e+01, -1.0276e+01,\n",
       "         -3.5175e+00, -1.0006e+00,  9.9153e-01,  4.9757e+00,  4.3381e+00],\n",
       "        [ 1.0891e+01,  1.4994e+00,  1.1398e+01,  1.7585e+01, -1.8932e+01,\n",
       "          2.9475e+00,  2.3084e+00, -6.3331e+00,  1.6111e+01,  3.6141e+00],\n",
       "        [ 1.5209e+00, -1.3413e+00, -1.2805e+00,  1.5298e+01, -9.7198e+00,\n",
       "         -6.5498e+00,  3.3203e-01, -3.9287e+00,  1.1822e+01,  7.5959e+00],\n",
       "        [ 1.0923e+01, -1.6024e+00,  9.7802e+00,  1.7167e+01, -1.4651e+01,\n",
       "         -2.2449e+00,  3.1043e+00, -3.4640e+00,  7.3125e+00,  5.7194e+00],\n",
       "        [ 1.9469e+00,  4.7224e+00,  2.6096e+00,  1.3437e+01, -1.0927e+01,\n",
       "         -9.4439e+00,  8.6561e+00,  9.5775e-01,  3.3070e+00, -6.3125e+00],\n",
       "        [ 6.4292e+00,  6.2728e-01, -7.6267e+00,  8.9668e+00, -1.8642e+01,\n",
       "         -4.6749e-01,  7.9735e+00,  3.3901e+00,  4.9034e+00, -3.6595e+00],\n",
       "        [ 3.3307e+00, -3.5892e+00, -4.2343e+00,  1.4674e+01, -6.1995e+00,\n",
       "         -8.2156e+00, -1.2267e+00, -4.1869e+00,  7.0362e+00, -7.8446e+00],\n",
       "        [ 4.4081e+00,  2.4728e+00,  1.3695e+01,  1.1190e+01, -2.2923e+01,\n",
       "          7.2958e+00,  1.4958e+00,  2.0907e+00,  1.1797e+01, -5.9056e+00],\n",
       "        [ 8.0467e+00, -1.4342e+00,  1.1123e+00,  2.4799e+01, -1.8074e+01,\n",
       "         -4.0692e-01,  3.2288e+00,  3.7245e+00, -4.2464e+00,  4.7479e+00],\n",
       "        [ 8.3497e+00,  2.7415e+00, -1.7764e+01,  1.1037e+01, -1.4644e+01,\n",
       "          1.3166e+00,  8.9998e+00,  2.7119e+00, -5.1682e+00, -3.3855e+00],\n",
       "        [ 2.1299e+00,  3.5793e+00,  4.2728e+00,  2.4020e+01, -1.6423e+01,\n",
       "         -3.3866e+00,  2.7857e+00,  9.4458e+00,  9.8586e+00, -4.3818e+00],\n",
       "        [ 1.0998e+01, -2.8237e-01,  7.7021e+00,  1.8142e+01, -1.9344e+01,\n",
       "          1.7809e+00,  1.5768e+00, -1.8198e+00,  5.2878e+00,  1.1521e+01],\n",
       "        [ 8.0171e+00, -7.2792e+00,  5.0101e+00,  1.3891e+01, -1.5607e+01,\n",
       "         -1.4516e+00,  1.2641e+00, -9.5916e+00,  1.2527e+00,  6.1838e+00],\n",
       "        [ 2.3826e+00,  1.6041e+00,  9.5611e+00,  1.3849e+01, -1.7796e+01,\n",
       "         -4.7177e+00,  3.0651e+00,  7.6152e+00,  7.1229e+00, -7.0907e+00],\n",
       "        [ 2.5641e+00, -3.7444e+00,  9.4622e+00,  1.3096e+01, -8.3776e+00,\n",
       "         -3.0758e+00,  1.4697e+01, -3.3076e+00,  1.7965e+01, -1.1407e+01],\n",
       "        [ 8.6595e+00,  4.6620e-01,  6.4551e-01,  1.9293e+01, -1.6852e+01,\n",
       "         -7.1080e+00,  1.1240e+01, -2.5831e+00,  4.4504e+00, -2.0969e+00],\n",
       "        [ 1.0726e+01,  1.0838e+01,  8.7935e+00,  1.7266e+01, -1.5182e+01,\n",
       "         -2.6005e+00,  1.5592e+01,  9.5672e+00,  9.7766e+00, -2.3525e+00],\n",
       "        [-1.3576e+00, -2.9067e-01,  1.6843e+01,  2.5396e+01, -2.1402e+01,\n",
       "          4.3994e+00, -1.3083e+00, -1.4895e+00,  9.8105e+00, -2.2117e+00],\n",
       "        [ 5.4675e+00, -3.2028e+00,  1.7127e+01,  1.5100e+01, -2.0821e+01,\n",
       "          4.7735e+00,  2.0112e+00, -8.6423e+00,  7.9965e+00, -2.8373e+00],\n",
       "        [ 9.7249e+00, -7.2577e+00, -2.6702e+00,  1.8493e+01, -1.3731e+01,\n",
       "          1.2666e+00,  1.3965e+01, -7.1337e+00,  2.0355e+00, -1.6372e-01],\n",
       "        [ 8.7309e+00, -9.7141e-01,  7.3223e+00,  1.0943e+01, -9.1839e+00,\n",
       "         -1.1166e+01,  4.9151e+00, -7.1067e+00,  8.4566e+00, -8.3931e+00],\n",
       "        [-3.1978e+00,  1.1125e+00,  5.6205e+00,  2.1205e+01, -1.5950e+01,\n",
       "         -6.3523e+00,  4.4012e+00,  2.3277e+00,  6.3593e+00, -2.8522e+00],\n",
       "        [ 1.1918e+01, -1.4970e+00, -2.2637e+00,  1.3860e+01, -1.3500e+01,\n",
       "         -5.5283e+00,  9.1537e+00, -6.0547e+00,  3.2035e+00,  3.8117e+00],\n",
       "        [-5.4327e+00, -3.3224e+00,  6.6624e+00,  2.0648e+01, -1.3009e+01,\n",
       "         -1.1280e+00,  6.7686e+00, -5.4295e+00,  9.7006e+00,  7.8937e+00],\n",
       "        [ 1.1677e+01,  1.5365e+01, -3.6340e+00,  2.0245e+01, -2.3880e+01,\n",
       "         -2.5242e+00,  9.5832e+00, -7.5540e+00,  9.1912e+00, -6.6700e-01],\n",
       "        [ 1.9862e-01,  4.7027e-02,  1.5982e+00,  1.1896e+01, -3.9390e+00,\n",
       "          1.3980e+01,  1.8130e+01,  6.5388e+00,  4.0473e-01, -1.3862e+01],\n",
       "        [ 8.8330e+00, -1.7668e+00,  6.2461e+00,  1.6585e+01, -1.0227e+01,\n",
       "         -3.9402e+00,  2.0053e+00, -5.2630e+00,  6.7688e+00,  6.8089e+00],\n",
       "        [ 3.8565e+00,  3.8855e+00,  1.1171e-01,  1.7691e+01, -2.2958e+01,\n",
       "         -8.9956e+00,  3.2953e+00,  8.4283e+00, -1.3520e+00,  3.0276e+00],\n",
       "        [ 8.2549e+00,  3.3111e+00,  4.1352e+00,  1.9442e+01, -4.9909e+00,\n",
       "         -6.8048e+00,  9.8666e+00, -9.0605e+00,  8.5731e+00, -7.4810e+00],\n",
       "        [ 2.1911e+00, -6.1943e+00,  7.2359e+00,  2.4561e+01, -9.3796e+00,\n",
       "         -3.6611e+00, -6.4267e-01, -7.6889e+00,  5.7745e+00,  2.9807e+00],\n",
       "        [ 4.4755e+00,  2.6632e-01,  1.1208e+01,  2.8948e+01, -1.5638e+01,\n",
       "          6.6922e+00,  3.9562e+00, -3.7687e-01,  3.2050e+00, -4.1169e+00],\n",
       "        [-2.7494e+00,  4.9561e-01,  1.1084e+01,  2.1026e+01, -2.1845e+01,\n",
       "         -5.4320e+00, -1.5252e+00, -6.8916e+00,  1.0612e+01,  1.6430e+00],\n",
       "        [ 3.8549e+00,  3.9113e+00,  3.9149e+00,  1.1541e+01, -8.9986e+00,\n",
       "         -2.4336e+00, -1.8408e+00, -8.0716e+00, -1.9091e+00,  5.0251e+00],\n",
       "        [ 6.5316e+00,  2.4519e+00,  3.7684e+00,  1.6083e+01, -1.9542e+01,\n",
       "         -1.4582e-02, -7.6007e-01, -5.6659e+00,  4.6910e-02, -3.3451e+00],\n",
       "        [ 5.6519e+00,  7.3729e-01,  3.0305e+00,  1.5999e+01, -2.3553e+01,\n",
       "         -2.8873e+00,  1.1436e+01, -5.1441e+00,  2.8219e+00, -6.7798e+00],\n",
       "        [ 1.3701e+01,  7.5052e+00, -2.1728e+00,  5.9325e+00, -1.8395e+01,\n",
       "         -4.3848e+00,  5.6077e+00,  3.3122e+00,  3.4350e+00,  3.3161e+00],\n",
       "        [ 4.4576e+00, -1.3893e+01,  2.3042e+00,  1.6039e+01, -1.2448e+01,\n",
       "          3.1063e-01, -3.5689e+00, -1.5498e+01,  4.9014e+00,  1.4216e+01]])"
      ]
     },
     "execution_count": 9,
     "metadata": {},
     "output_type": "execute_result"
    }
   ],
   "source": [
    "out_10"
   ]
  },
  {
   "cell_type": "markdown",
   "metadata": {},
   "source": [
    "Now we have 10 outputs for our network. We want to pass in an image to our network and get out a probability distribution over the classes that tells us the likely class(es) the image belongs to. Something that looks like this:\n",
    "<img src='assets/image_distribution.png' width=500px>\n",
    "\n",
    "Here we see that the probability for each class is roughly the same. This is representing an untrained network, it hasn't seen any data yet so it just returns a uniform distribution with equal probabilities for each class.\n",
    "\n",
    "To calculate this probability distribution, we often use the [**softmax** function](https://en.wikipedia.org/wiki/Softmax_function). Mathematically this looks like\n",
    "\n",
    "$$\n",
    "\\Large \\sigma(x_i) = \\cfrac{e^{x_i}}{\\sum_k^K{e^{x_k}}}\n",
    "$$\n",
    "\n",
    "What this does is squish each input $x_i$ between 0 and 1 and normalizes the values to give you a proper probability distribution where the probabilites sum up to one.\n",
    "\n",
    "> **Exercise:** Implement a function `softmax` that performs the softmax calculation and returns probability distributions for each example in the batch. Note that you'll need to pay attention to the shapes when doing this. If you have a tensor `a` with shape `(64, 10)` and a tensor `b` with shape `(64,)`, doing `a/b` will give you an error because PyTorch will try to do the division across the columns (called broadcasting) but you'll get a size mismatch. The way to think about this is for each of the 64 examples, you only want to divide by one value, the sum in the denominator. So you need `b` to have a shape of `(64, 1)`. This way PyTorch will divide the 10 values in each row of `a` by the one value in each row of `b`. Pay attention to how you take the sum as well. You'll need to define the `dim` keyword in `torch.sum`. Setting `dim=0` takes the sum across the rows while `dim=1` takes the sum across the columns."
   ]
  },
  {
   "cell_type": "code",
   "execution_count": 10,
   "metadata": {},
   "outputs": [
    {
     "name": "stdout",
     "output_type": "stream",
     "text": [
      "torch.Size([64])\n",
      "torch.Size([64, 1])\n"
     ]
    }
   ],
   "source": [
    "denom = torch.sum(torch.exp(out_10),dim=1)\n",
    "print(denom.shape)\n",
    "print(denom.view(-1,1).shape)"
   ]
  },
  {
   "cell_type": "code",
   "execution_count": 12,
   "metadata": {},
   "outputs": [],
   "source": [
    "# denom.view(-1,1)"
   ]
  },
  {
   "cell_type": "code",
   "execution_count": 13,
   "metadata": {},
   "outputs": [
    {
     "name": "stdout",
     "output_type": "stream",
     "text": [
      "torch.Size([64, 10])\n",
      "tensor([1.0000, 1.0000, 1.0000, 1.0000, 1.0000, 1.0000, 1.0000, 1.0000, 1.0000,\n",
      "        1.0000, 1.0000, 1.0000, 1.0000, 1.0000, 1.0000, 1.0000, 1.0000, 1.0000,\n",
      "        1.0000, 1.0000, 1.0000, 1.0000, 1.0000, 1.0000, 1.0000, 1.0000, 1.0000,\n",
      "        1.0000, 1.0000, 1.0000, 1.0000, 1.0000, 1.0000, 1.0000, 1.0000, 1.0000,\n",
      "        1.0000, 1.0000, 1.0000, 1.0000, 1.0000, 1.0000, 1.0000, 1.0000, 1.0000,\n",
      "        1.0000, 1.0000, 1.0000, 1.0000, 1.0000, 1.0000, 1.0000, 1.0000, 1.0000,\n",
      "        1.0000, 1.0000, 1.0000, 1.0000, 1.0000, 1.0000, 1.0000, 1.0000, 1.0000,\n",
      "        1.0000])\n"
     ]
    }
   ],
   "source": [
    "def softmax(x):\n",
    "    ## TODO: Implement the softmax function here\n",
    "    denom = torch.sum(torch.exp(x), dim=1)\n",
    "    return (torch.exp(x))/denom.view(-1,1)\n",
    "\n",
    "# Here, out should be the output of the network in the previous excercise with shape (64,10)\n",
    "probabilities = softmax(out_10)\n",
    "\n",
    "# Does it have the right shape? Should be (64, 10)\n",
    "print(probabilities.shape)\n",
    "# Does it sum to 1?\n",
    "print(probabilities.sum(dim=1))"
   ]
  },
  {
   "cell_type": "markdown",
   "metadata": {},
   "source": [
    "## Building networks with PyTorch\n",
    "\n",
    "PyTorch provides a module `nn` that makes building networks much simpler. Here I'll show you how to build the same one as above with 784 inputs, 256 hidden units, 10 output units and a softmax output."
   ]
  },
  {
   "cell_type": "code",
   "execution_count": 14,
   "metadata": {},
   "outputs": [],
   "source": [
    "from torch import nn"
   ]
  },
  {
   "cell_type": "code",
   "execution_count": 15,
   "metadata": {},
   "outputs": [],
   "source": [
    "class Network(nn.Module):\n",
    "    def __init__(self):\n",
    "        super().__init__()\n",
    "        \n",
    "        # Inputs to hidden layer linear transformation\n",
    "        self.hidden = nn.Linear(784, 256)\n",
    "        # Output layer, 10 units - one for each digit\n",
    "        self.output = nn.Linear(256, 10)\n",
    "        \n",
    "        # Define sigmoid activation and softmax output \n",
    "        self.sigmoid = nn.Sigmoid()\n",
    "        self.softmax = nn.Softmax(dim=1)\n",
    "        \n",
    "    def forward(self, x):\n",
    "        # Pass the input tensor through each of our operations\n",
    "        x = self.hidden(x)\n",
    "        x = self.sigmoid(x)\n",
    "        x = self.output(x)\n",
    "        x = self.softmax(x)\n",
    "        \n",
    "        return x"
   ]
  },
  {
   "cell_type": "markdown",
   "metadata": {},
   "source": [
    "Let's go through this bit by bit.\n",
    "\n",
    "```python\n",
    "class Network(nn.Module):\n",
    "```\n",
    "\n",
    "Here we're inheriting from `nn.Module`. Combined with `super().__init__()` this creates a class that tracks the architecture and provides a lot of useful methods and attributes. It is mandatory to inherit from `nn.Module` when you're creating a class for your network. The name of the class itself can be anything.\n",
    "\n",
    "```python\n",
    "self.hidden = nn.Linear(784, 256)\n",
    "```\n",
    "\n",
    "This line creates a module for a linear transformation, $x\\mathbf{W} + b$, with 784 inputs and 256 outputs and assigns it to `self.hidden`. The module automatically creates the weight and bias tensors which we'll use in the `forward` method. You can access the weight and bias tensors once the network (`net`) is created with `net.hidden.weight` and `net.hidden.bias`.\n",
    "\n",
    "```python\n",
    "self.output = nn.Linear(256, 10)\n",
    "```\n",
    "\n",
    "Similarly, this creates another linear transformation with 256 inputs and 10 outputs.\n",
    "\n",
    "```python\n",
    "self.sigmoid = nn.Sigmoid()\n",
    "self.softmax = nn.Softmax(dim=1)\n",
    "```\n",
    "\n",
    "Here I defined operations for the sigmoid activation and softmax output. Setting `dim=1` in `nn.Softmax(dim=1)` calculates softmax across the columns.\n",
    "\n",
    "```python\n",
    "def forward(self, x):\n",
    "```\n",
    "\n",
    "PyTorch networks created with `nn.Module` must have a `forward` method defined. It takes in a tensor `x` and passes it through the operations you defined in the `__init__` method.\n",
    "\n",
    "```python\n",
    "x = self.hidden(x)\n",
    "x = self.sigmoid(x)\n",
    "x = self.output(x)\n",
    "x = self.softmax(x)\n",
    "```\n",
    "\n",
    "Here the input tensor `x` is passed through each operation and reassigned to `x`. We can see that the input tensor goes through the hidden layer, then a sigmoid function, then the output layer, and finally the softmax function. It doesn't matter what you name the variables here, as long as the inputs and outputs of the operations match the network architecture you want to build. The order in which you define things in the `__init__` method doesn't matter, but you'll need to sequence the operations correctly in the `forward` method.\n",
    "\n",
    "Now we can create a `Network` object."
   ]
  },
  {
   "cell_type": "code",
   "execution_count": 16,
   "metadata": {},
   "outputs": [
    {
     "data": {
      "text/plain": [
       "Network(\n",
       "  (hidden): Linear(in_features=784, out_features=256, bias=True)\n",
       "  (output): Linear(in_features=256, out_features=10, bias=True)\n",
       "  (sigmoid): Sigmoid()\n",
       "  (softmax): Softmax(dim=1)\n",
       ")"
      ]
     },
     "execution_count": 16,
     "metadata": {},
     "output_type": "execute_result"
    }
   ],
   "source": [
    "# Create the network and look at it's text representation\n",
    "model = Network()\n",
    "model"
   ]
  },
  {
   "cell_type": "markdown",
   "metadata": {},
   "source": [
    "You can define the network somewhat more concisely and clearly using the `torch.nn.functional` module. This is the most common way you'll see networks defined as many operations are simple element-wise functions. We normally import this module as `F`, `import torch.nn.functional as F`."
   ]
  },
  {
   "cell_type": "code",
   "execution_count": 17,
   "metadata": {},
   "outputs": [],
   "source": [
    "import torch.nn.functional as F\n",
    "\n",
    "class Network(nn.Module):\n",
    "    def __init__(self):\n",
    "        super().__init__()\n",
    "        # Inputs to hidden layer linear transformation\n",
    "        self.hidden = nn.Linear(784, 256)\n",
    "        # Output layer, 10 units - one for each digit\n",
    "        self.output = nn.Linear(256, 10)\n",
    "        \n",
    "    def forward(self, x):\n",
    "        # Hidden layer with sigmoid activation\n",
    "        x = F.sigmoid(self.hidden(x))\n",
    "        # Output layer with softmax activation\n",
    "        x = F.softmax(self.output(x), dim=1)\n",
    "        \n",
    "        return x"
   ]
  },
  {
   "cell_type": "markdown",
   "metadata": {},
   "source": [
    "### Activation functions\n",
    "\n",
    "So far we've only been looking at the sigmoid activation function, but in general any function can be used as an activation function. The only requirement is that for a network to approximate a non-linear function, the activation functions must be non-linear. Here are a few more examples of common activation functions: Tanh (hyperbolic tangent), and ReLU (rectified linear unit).\n",
    "\n",
    "<img src=\"assets/activation.png\" width=700px>\n",
    "\n",
    "In practice, the ReLU function is used almost exclusively as the activation function for hidden layers."
   ]
  },
  {
   "cell_type": "markdown",
   "metadata": {},
   "source": [
    "### Your Turn to Build a Network\n",
    "\n",
    "<img src=\"assets/mlp_mnist.png\" width=600px>\n",
    "\n",
    "> **Exercise:** Create a network with 784 input units, a hidden layer with 128 units and a ReLU activation, then a hidden layer with 64 units and a ReLU activation, and finally an output layer with a softmax activation as shown above. You can use a ReLU activation with the `nn.ReLU` module or `F.relu` function.\n",
    "\n",
    "It's good practice to name your layers by their type of network, for instance 'fc' to represent a fully-connected layer. As you code your solution, use `fc1`, `fc2`, and `fc3` as your layer names."
   ]
  },
  {
   "cell_type": "code",
   "execution_count": 18,
   "metadata": {
    "scrolled": true
   },
   "outputs": [],
   "source": [
    "## Your solution here\n",
    "import torch.nn.functional as F\n",
    "\n",
    "class Network(nn.Module):\n",
    "    def __init__(self):\n",
    "        super().__init__()\n",
    "        # Inputs to hidden_layer_1 linear transformation\n",
    "        self.fc1 = nn.Linear(784, 128)\n",
    "        # Inputs to hidden_layer_2 linear transformation\n",
    "        self.fc2 = nn.Linear(128, 64)\n",
    "        # Output layer, 10 units - one for each digit\n",
    "        self.fc3 = nn.Linear(64, 10)\n",
    "        \n",
    "    def forward(self, x):\n",
    "        # Hidden_layer_1 with ReLu activation\n",
    "        x = F.relu(self.fc1(x))\n",
    "        # Hidden_layer_2 with ReLu activation\n",
    "        x = F.relu(self.fc2(x))\n",
    "        # Output layer with softmax activation\n",
    "        x = F.softmax(self.fc3(x), dim=1)\n",
    "        \n",
    "        return x"
   ]
  },
  {
   "cell_type": "code",
   "execution_count": 19,
   "metadata": {},
   "outputs": [
    {
     "data": {
      "text/plain": [
       "Network(\n",
       "  (fc1): Linear(in_features=784, out_features=128, bias=True)\n",
       "  (fc2): Linear(in_features=128, out_features=64, bias=True)\n",
       "  (fc3): Linear(in_features=64, out_features=10, bias=True)\n",
       ")"
      ]
     },
     "execution_count": 19,
     "metadata": {},
     "output_type": "execute_result"
    }
   ],
   "source": [
    "# Create the network and look at it's text representation\n",
    "model = Network()\n",
    "model"
   ]
  },
  {
   "cell_type": "markdown",
   "metadata": {},
   "source": [
    "### Initializing weights and biases\n",
    "\n",
    "The weights and such are automatically initialized for you, but it's possible to customize how they are initialized. The weights and biases are tensors attached to the layer you defined, you can get them with `model.fc1.weight` for instance."
   ]
  },
  {
   "cell_type": "code",
   "execution_count": 20,
   "metadata": {},
   "outputs": [
    {
     "name": "stdout",
     "output_type": "stream",
     "text": [
      "Parameter containing:\n",
      "tensor([[-0.0085,  0.0197, -0.0290,  ..., -0.0297,  0.0112, -0.0277],\n",
      "        [-0.0350, -0.0207,  0.0047,  ...,  0.0086, -0.0028,  0.0099],\n",
      "        [-0.0329,  0.0002, -0.0138,  ..., -0.0111,  0.0130,  0.0050],\n",
      "        ...,\n",
      "        [-0.0013,  0.0254,  0.0341,  ...,  0.0025, -0.0187, -0.0279],\n",
      "        [ 0.0053, -0.0258,  0.0249,  ...,  0.0302,  0.0034,  0.0104],\n",
      "        [ 0.0285, -0.0125,  0.0177,  ..., -0.0205, -0.0187, -0.0286]],\n",
      "       requires_grad=True)\n",
      "Parameter containing:\n",
      "tensor([ 0.0103, -0.0230, -0.0236,  0.0212, -0.0017, -0.0338, -0.0185,  0.0340,\n",
      "        -0.0108,  0.0059,  0.0041, -0.0353,  0.0072,  0.0338, -0.0337, -0.0281,\n",
      "        -0.0088,  0.0247, -0.0244, -0.0079,  0.0138, -0.0182, -0.0138,  0.0008,\n",
      "        -0.0278,  0.0282, -0.0149,  0.0021,  0.0138, -0.0270,  0.0134, -0.0117,\n",
      "        -0.0184,  0.0045, -0.0134,  0.0226, -0.0328,  0.0230, -0.0213,  0.0086,\n",
      "         0.0044,  0.0264,  0.0111,  0.0086,  0.0272, -0.0162,  0.0254,  0.0073,\n",
      "        -0.0228, -0.0168,  0.0260,  0.0061,  0.0147,  0.0236,  0.0247, -0.0083,\n",
      "        -0.0188,  0.0003,  0.0193,  0.0177, -0.0019, -0.0200, -0.0283, -0.0220,\n",
      "        -0.0281, -0.0019,  0.0311,  0.0166, -0.0328,  0.0071,  0.0075, -0.0266,\n",
      "        -0.0111, -0.0250,  0.0184,  0.0134, -0.0234, -0.0042,  0.0203, -0.0329,\n",
      "        -0.0192, -0.0264, -0.0170,  0.0058, -0.0323,  0.0174, -0.0346,  0.0276,\n",
      "         0.0331,  0.0085,  0.0320, -0.0145,  0.0174,  0.0312,  0.0276,  0.0211,\n",
      "        -0.0118,  0.0169,  0.0189,  0.0207,  0.0120,  0.0177,  0.0097, -0.0302,\n",
      "         0.0023,  0.0167, -0.0099, -0.0162,  0.0012,  0.0077, -0.0082,  0.0085,\n",
      "        -0.0296,  0.0151,  0.0312, -0.0012, -0.0029,  0.0155,  0.0320,  0.0186,\n",
      "        -0.0320, -0.0196, -0.0149,  0.0179, -0.0335, -0.0043, -0.0132, -0.0133],\n",
      "       requires_grad=True)\n"
     ]
    }
   ],
   "source": [
    "print(model.fc1.weight)\n",
    "print(model.fc1.bias)"
   ]
  },
  {
   "cell_type": "markdown",
   "metadata": {},
   "source": [
    "For custom initialization, we want to modify these tensors in place. These are actually autograd *Variables*, so we need to get back the actual tensors with `model.fc1.weight.data`. Once we have the tensors, we can fill them with zeros (for biases) or random normal values."
   ]
  },
  {
   "cell_type": "code",
   "execution_count": 21,
   "metadata": {},
   "outputs": [
    {
     "data": {
      "text/plain": [
       "tensor([0., 0., 0., 0., 0., 0., 0., 0., 0., 0., 0., 0., 0., 0., 0., 0., 0., 0., 0., 0., 0., 0., 0., 0.,\n",
       "        0., 0., 0., 0., 0., 0., 0., 0., 0., 0., 0., 0., 0., 0., 0., 0., 0., 0., 0., 0., 0., 0., 0., 0.,\n",
       "        0., 0., 0., 0., 0., 0., 0., 0., 0., 0., 0., 0., 0., 0., 0., 0., 0., 0., 0., 0., 0., 0., 0., 0.,\n",
       "        0., 0., 0., 0., 0., 0., 0., 0., 0., 0., 0., 0., 0., 0., 0., 0., 0., 0., 0., 0., 0., 0., 0., 0.,\n",
       "        0., 0., 0., 0., 0., 0., 0., 0., 0., 0., 0., 0., 0., 0., 0., 0., 0., 0., 0., 0., 0., 0., 0., 0.,\n",
       "        0., 0., 0., 0., 0., 0., 0., 0.])"
      ]
     },
     "execution_count": 21,
     "metadata": {},
     "output_type": "execute_result"
    }
   ],
   "source": [
    "# Set biases to all zeros\n",
    "model.fc1.bias.data.fill_(0)"
   ]
  },
  {
   "cell_type": "code",
   "execution_count": 22,
   "metadata": {},
   "outputs": [
    {
     "data": {
      "text/plain": [
       "tensor([[ 0.0178,  0.0144,  0.0219,  ...,  0.0037,  0.0149, -0.0053],\n",
       "        [-0.0020,  0.0050,  0.0045,  ...,  0.0003, -0.0209, -0.0095],\n",
       "        [-0.0022, -0.0046, -0.0095,  ..., -0.0118, -0.0002, -0.0048],\n",
       "        ...,\n",
       "        [-0.0010, -0.0126, -0.0138,  ..., -0.0011,  0.0087, -0.0007],\n",
       "        [-0.0089, -0.0005, -0.0133,  ...,  0.0032,  0.0175,  0.0034],\n",
       "        [-0.0200, -0.0038, -0.0023,  ...,  0.0123, -0.0021,  0.0084]])"
      ]
     },
     "execution_count": 22,
     "metadata": {},
     "output_type": "execute_result"
    }
   ],
   "source": [
    "# sample from random normal with standard dev = 0.01\n",
    "model.fc1.weight.data.normal_(std=0.01)"
   ]
  },
  {
   "cell_type": "markdown",
   "metadata": {},
   "source": [
    "### Forward pass\n",
    "\n",
    "Now that we have a network, let's see what happens when we pass in an image."
   ]
  },
  {
   "cell_type": "code",
   "execution_count": 23,
   "metadata": {},
   "outputs": [
    {
     "data": {
      "image/png": "[encoded data removed]",
      "text/plain": [
       "<Figure size 432x648 with 2 Axes>"
      ]
     },
     "metadata": {
      "image/png": {
       "height": 235,
       "width": 424
      },
      "needs_background": "light"
     },
     "output_type": "display_data"
    }
   ],
   "source": [
    "# Grab some data \n",
    "dataiter = iter(trainloader)\n",
    "images, labels = dataiter.next()\n",
    "\n",
    "# Resize images into a 1D vector, new shape is (batch size, color channels, image pixels) \n",
    "images.resize_(64, 1, 784)\n",
    "# or images.resize_(images.shape[0], 1, 784) to automatically get batch size\n",
    "\n",
    "# Forward pass through the network\n",
    "img_idx = 0\n",
    "ps = model.forward(images[img_idx,:])\n",
    "\n",
    "img = images[img_idx]\n",
    "helper.view_classify(img.view(1, 28, 28), ps)"
   ]
  },
  {
   "cell_type": "markdown",
   "metadata": {},
   "source": [
    "As you can see above, our network has basically no idea what this digit is. It's because we haven't trained it yet, all the weights are random!\n",
    "\n",
    "### Using `nn.Sequential`\n",
    "\n",
    "PyTorch provides a convenient way to build networks like this where a tensor is passed sequentially through operations, `nn.Sequential` ([documentation](https://pytorch.org/docs/master/nn.html#torch.nn.Sequential)). Using this to build the equivalent network:"
   ]
  },
  {
   "cell_type": "code",
   "execution_count": 24,
   "metadata": {},
   "outputs": [
    {
     "name": "stdout",
     "output_type": "stream",
     "text": [
      "Sequential(\n",
      "  (0): Linear(in_features=784, out_features=128, bias=True)\n",
      "  (1): ReLU()\n",
      "  (2): Linear(in_features=128, out_features=64, bias=True)\n",
      "  (3): ReLU()\n",
      "  (4): Linear(in_features=64, out_features=10, bias=True)\n",
      "  (5): Softmax(dim=1)\n",
      ")\n"
     ]
    },
    {
     "data": {
      "image/png": "[encoded data removed]",
      "text/plain": [
       "<Figure size 432x648 with 2 Axes>"
      ]
     },
     "metadata": {
      "image/png": {
       "height": 235,
       "width": 424
      },
      "needs_background": "light"
     },
     "output_type": "display_data"
    }
   ],
   "source": [
    "# Hyperparameters for our network\n",
    "input_size = 784\n",
    "hidden_sizes = [128, 64]\n",
    "output_size = 10\n",
    "\n",
    "# Build a feed-forward network\n",
    "model = nn.Sequential(nn.Linear(input_size, hidden_sizes[0]),\n",
    "                      nn.ReLU(),\n",
    "                      nn.Linear(hidden_sizes[0], hidden_sizes[1]),\n",
    "                      nn.ReLU(),\n",
    "                      nn.Linear(hidden_sizes[1], output_size),\n",
    "                      nn.Softmax(dim=1))\n",
    "print(model)\n",
    "\n",
    "# Forward pass through the network and display output\n",
    "images, labels = next(iter(trainloader))\n",
    "images.resize_(images.shape[0], 1, 784)\n",
    "ps = model.forward(images[0,:])\n",
    "helper.view_classify(images[0].view(1, 28, 28), ps)"
   ]
  },
  {
   "cell_type": "markdown",
   "metadata": {},
   "source": [
    "Here our model is the same as before: 784 input units, a hidden layer with 128 units, ReLU activation, 64 unit hidden layer, another ReLU, then the output layer with 10 units, and the softmax output.\n",
    "\n",
    "The operations are available by passing in the appropriate index. For example, if you want to get first Linear operation and look at the weights, you'd use `model[0]`."
   ]
  },
  {
   "cell_type": "code",
   "execution_count": 25,
   "metadata": {},
   "outputs": [
    {
     "name": "stdout",
     "output_type": "stream",
     "text": [
      "Linear(in_features=784, out_features=128, bias=True)\n"
     ]
    },
    {
     "data": {
      "text/plain": [
       "Parameter containing:\n",
       "tensor([[-0.0189,  0.0061, -0.0229,  ..., -0.0235,  0.0138,  0.0290],\n",
       "        [-0.0149,  0.0297,  0.0062,  ..., -0.0126,  0.0145,  0.0357],\n",
       "        [-0.0103, -0.0324, -0.0251,  ...,  0.0357, -0.0259,  0.0329],\n",
       "        ...,\n",
       "        [-0.0148, -0.0307, -0.0335,  ..., -0.0184, -0.0206,  0.0266],\n",
       "        [-0.0024, -0.0028,  0.0352,  ..., -0.0210, -0.0297, -0.0018],\n",
       "        [ 0.0357,  0.0157, -0.0115,  ..., -0.0201, -0.0211,  0.0005]],\n",
       "       requires_grad=True)"
      ]
     },
     "execution_count": 25,
     "metadata": {},
     "output_type": "execute_result"
    }
   ],
   "source": [
    "print(model[0])\n",
    "model[0].weight"
   ]
  },
  {
   "cell_type": "markdown",
   "metadata": {},
   "source": [
    "You can also pass in an `OrderedDict` to name the individual layers and operations, instead of using incremental integers. Note that dictionary keys must be unique, so _each operation must have a different name_."
   ]
  },
  {
   "cell_type": "code",
   "execution_count": 26,
   "metadata": {},
   "outputs": [
    {
     "data": {
      "text/plain": [
       "Sequential(\n",
       "  (fc1): Linear(in_features=784, out_features=128, bias=True)\n",
       "  (relu1): ReLU()\n",
       "  (fc2): Linear(in_features=128, out_features=64, bias=True)\n",
       "  (relu2): ReLU()\n",
       "  (output): Linear(in_features=64, out_features=10, bias=True)\n",
       "  (softmax): Softmax(dim=1)\n",
       ")"
      ]
     },
     "execution_count": 26,
     "metadata": {},
     "output_type": "execute_result"
    }
   ],
   "source": [
    "from collections import OrderedDict\n",
    "model = nn.Sequential(OrderedDict([\n",
    "                      ('fc1', nn.Linear(input_size, hidden_sizes[0])),\n",
    "                      ('relu1', nn.ReLU()),\n",
    "                      ('fc2', nn.Linear(hidden_sizes[0], hidden_sizes[1])),\n",
    "                      ('relu2', nn.ReLU()),\n",
    "                      ('output', nn.Linear(hidden_sizes[1], output_size)),\n",
    "                      ('softmax', nn.Softmax(dim=1))]))\n",
    "model"
   ]
  },
  {
   "cell_type": "markdown",
   "metadata": {},
   "source": [
    "Now you can access layers either by integer or the name"
   ]
  },
  {
   "cell_type": "code",
   "execution_count": 27,
   "metadata": {},
   "outputs": [
    {
     "name": "stdout",
     "output_type": "stream",
     "text": [
      "Linear(in_features=784, out_features=128, bias=True)\n",
      "Linear(in_features=784, out_features=128, bias=True)\n"
     ]
    }
   ],
   "source": [
    "print(model[0])\n",
    "print(model.fc1)"
   ]
  },
  {
   "cell_type": "markdown",
   "metadata": {},
   "source": [
    "In the next notebook, we'll see how we can train a neural network to accuractly predict the numbers appearing in the MNIST images."
   ]
  }
 ],
 "metadata": {
  "hide_input": false,
  "kernelspec": {
   "display_name": "Python 3",
   "language": "python",
   "name": "python3"
  },
  "language_info": {
   "codemirror_mode": {
    "name": "ipython",
    "version": 3
   },
   "file_extension": ".py",
   "mimetype": "text/x-python",
   "name": "python",
   "nbconvert_exporter": "python",
   "pygments_lexer": "ipython3",
   "version": "3.8.8"
  },
  "latex_envs": {
   "LaTeX_envs_menu_present": true,
   "autoclose": false,
   "autocomplete": true,
   "bibliofile": "biblio.bib",
   "cite_by": "apalike",
   "current_citInitial": 1,
   "eqLabelWithNumbers": true,
   "eqNumInitial": 1,
   "hotkeys": {
    "equation": "Ctrl-E",
    "itemize": "Ctrl-I"
   },
   "labels_anchors": false,
   "latex_user_defs": false,
   "report_style_numbering": false,
   "user_envs_cfg": false
  },
  "toc": {
   "base_numbering": 1,
   "nav_menu": {},
   "number_sections": true,
   "sideBar": true,
   "skip_h1_title": false,
   "title_cell": "Table of Contents",
   "title_sidebar": "Contents",
   "toc_cell": false,
   "toc_position": {},
   "toc_section_display": true,
   "toc_window_display": false
  }
 },
 "nbformat": 4,
 "nbformat_minor": 2
}
